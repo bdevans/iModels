{
 "cells": [
  {
   "cell_type": "code",
   "execution_count": null,
   "metadata": {},
   "outputs": [],
   "source": [
    "%matplotlib inline\n",
    "from ipywidgets import interact\n",
    "import numpy as np\n",
    "from skimage import io, color\n",
    "from scipy.ndimage.filters import convolve\n",
    "from matplotlib import pyplot as plt\n",
    "\n",
    "lenna_orig = color.rgb2gray(io.imread('Lenna.png'))\n",
    "\n",
    "def gabor_fn(sigma, theta, Lambda, psi, gamma):\n",
    "    sigma_x, sigma_y = sigma, float(sigma) / gamma\n",
    "    # Bounding box\n",
    "    nstds = 3 # Number of standard deviation sigma\n",
    "    xmax = np.ceil(max(1, max(abs(nstds * sigma_x * np.cos(theta)), abs(nstds * sigma_y * np.sin(theta)))))\n",
    "    ymax = np.ceil(max(1, max(abs(nstds * sigma_x * np.sin(theta)), abs(nstds * sigma_y * np.cos(theta)))))\n",
    "    xmin, ymin = -xmax, -ymax\n",
    "    (y, x) = np.meshgrid(np.arange(ymin, ymax + 1), np.arange(xmin, xmax + 1))\n",
    "\n",
    "    x_theta = x * np.cos(theta) + y * np.sin(theta)  # Rotation\n",
    "    y_theta = -x * np.sin(theta) + y * np.cos(theta)  # Rotation\n",
    "    gb = np.exp(-.5 * (x_theta ** 2 / sigma_x ** 2 + y_theta ** 2 / sigma_y ** 2)) * np.cos(2 * np.pi / Lambda * x_theta + psi)\n",
    "\n",
    "    fig, axes = plt.subplots(ncols=3, figsize=(18,6))\n",
    "    ctf = axes[0].imshow(gb, cmap='gray', vmin=-1, vmax=1)\n",
    "    fig.colorbar(ctf, ax=axes[0])\n",
    "    axes[1].imshow(lenna_orig, cmap='gray')\n",
    "    # np.flipud(np.fliplr(gb))\n",
    "    axes[2].imshow(convolve(lenna_orig, gb), cmap='gray')\n",
    "    for ax in axes:\n",
    "        ax.get_xaxis().set_visible(False)\n",
    "        ax.get_yaxis().set_visible(False)\n",
    "\n",
    "interact(gabor_fn, sigma=(1.,10.), theta=(0,2*np.pi), Lambda=(1.,10.), psi=(0,2*np.pi), gamma=(0.01,1.))"
   ]
  },
  {
   "cell_type": "code",
   "execution_count": null,
   "metadata": {},
   "outputs": [],
   "source": []
  }
 ],
 "metadata": {
  "kernelspec": {
   "display_name": "Python 3",
   "language": "python",
   "name": "python3"
  },
  "language_info": {
   "codemirror_mode": {
    "name": "ipython",
    "version": 3
   },
   "file_extension": ".py",
   "mimetype": "text/x-python",
   "name": "python",
   "nbconvert_exporter": "python",
   "pygments_lexer": "ipython3",
   "version": "3.7.1"
  }
 },
 "nbformat": 4,
 "nbformat_minor": 2
}
