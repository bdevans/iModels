{
 "cells": [
  {
   "cell_type": "markdown",
   "metadata": {},
   "source": [
    "$p_T[n] = \\frac{(rt)^n}{n!}e^{-rT}$"
   ]
  },
  {
   "cell_type": "markdown",
   "metadata": {},
   "source": [
    "* https://www.tu-chemnitz.de/informatik/KI/scripts/ws0910/Neuron_Poisson.pdf\n",
    "* http://www.cns.nyu.edu/~david/handouts/poisson.pdf"
   ]
  },
  {
   "cell_type": "code",
   "execution_count": null,
   "metadata": {},
   "outputs": [],
   "source": [
    "%matplotlib inline\n",
    "import numpy as np\n",
    "from matplotlib import pyplot as plt\n",
    "from ipywidgets import interact\n",
    "import ipywidgets as widgets\n",
    "\n",
    "\n",
    "def poisson_generator(r=25, T=1000, N=100, dt=0.1):\n",
    "    \"\"\"This scheme models a homogeneous Poisson process by \n",
    "    discretising time and is appropriate for when dt << 1.\n",
    "    \"\"\"\n",
    "\n",
    "    # Binning methods: 'auto', 'sturges', 'fd', 'doane', 'scott', 'rice', 'sturges' 'sqrt'\n",
    "    bins = 'fd'\n",
    "    \n",
    "    r /= 1000  # Rescale because time is in ms\n",
    "    spikes = np.random.rand(N, int(T/dt)) < (r*dt)\n",
    "#     indices = np.argwhere(spikes)\n",
    "#     n_ind, t_ind = indices[:, 0], indices[:, 1]\n",
    "    # Equivalently\n",
    "    n_ind, t_ind = np.where(spikes)\n",
    "\n",
    "    fig, axes = plt.subplots(nrows=1, ncols=3, figsize=(18,6))\n",
    "    axes[0].plot(t_ind*dt, 1+n_ind, '|')\n",
    "    axes[0].set_xlim(0, T)\n",
    "    axes[0].set_ylim(0, N+1)\n",
    "    axes[0].set_xlabel(\"Time [ms]\")\n",
    "    axes[0].set_ylabel(\"$i$\")\n",
    "\n",
    "    # Gaussian distribution\n",
    "    counts = np.sum(spikes, axis=1)\n",
    "    rates = counts*T/1000\n",
    "    # On average mean = variance in a Poisson process, so fano = 1\n",
    "    r_var, r_mean = np.var(counts), np.mean(counts)\n",
    "    fano = r_var / r_mean\n",
    "    # print(f\"Fano factor = {fano:.3}\")\n",
    "    axes[1].hist(rates, bins=bins, label=f\"$\\mu$={r_mean:.3}\\n$\\sigma^2$={r_var:.3}\\n$F$={fano:.3}\")\n",
    "    axes[1].set_xlabel(\"Spike rate [Hz]\")\n",
    "    axes[1].set_ylabel(\"$f$\")\n",
    "    axes[1].legend()\n",
    "    \n",
    "    ISIs = [np.diff(t_ind[np.where(n_ind == i)] * dt) for i in range(N)]\n",
    "    ISIs = np.concatenate(ISIs).ravel()\n",
    "    isi_std, isi_mean = np.std(ISIs), np.mean(ISIs)\n",
    "    cv = isi_std / isi_mean\n",
    "    # print(f\"Coefficient of variation = {cv:.3}\")\n",
    "    # Exponential distribution\n",
    "    axes[2].hist(ISIs, bins=bins, label=f\"$\\mu$={isi_mean:.3}\\n$\\sigma$={isi_std:.3}\\n$C_V$={cv:.3}\")\n",
    "    axes[2].set_xlabel(\"ISI [ms]\")\n",
    "    axes[2].set_ylabel(\"$f$\")\n",
    "    axes[2].legend()\n",
    "\n",
    "\n",
    "interact(poisson_generator, r=(0,100.), T=(10,1000), N=(1,1000), dt=widgets.FloatLogSlider(value=0.1, base=10, min=-3, max=0))"
   ]
  }
 ],
 "metadata": {
  "language_info": {
   "name": "python",
   "pygments_lexer": "ipython3"
  }
 },
 "nbformat": 4,
 "nbformat_minor": 2
}
