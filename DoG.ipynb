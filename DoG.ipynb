{
 "cells": [
  {
   "cell_type": "markdown",
   "metadata": {},
   "source": [
    "$f_{DoG}(r) = \\frac{A_c}{\\pi r_c^2} e^{\\frac{r^2}{r_c^2}} - \\frac{A_s}{\\pi r_s^2} e^{\\frac{r^2}{r_s^2}}$"
   ]
  },
  {
   "cell_type": "markdown",
   "metadata": {},
   "source": [
    "$f_{DoG}(x,y) = \\frac{A_c}{\\gamma^2} e^{-\\frac{x^2+y^2}{2 \\gamma^2 \\sigma^2}} - A_s e^{-\\frac{x^2+y^2}{2 \\sigma^2}}$"
   ]
  },
  {
   "cell_type": "code",
   "execution_count": null,
   "metadata": {},
   "outputs": [],
   "source": [
    "%matplotlib inline\n",
    "from ipywidgets import interact, interactive, fixed, interact_manual\n",
    "import ipywidgets as widgets\n",
    "import numpy as np\n",
    "# import imageio\n",
    "from skimage import io, color\n",
    "from scipy.ndimage.filters import convolve\n",
    "from matplotlib import pyplot as plt\n",
    "\n",
    "\n",
    "# lenna_orig = plt.imread(\"Lenna_(test_image).png\")\n",
    "lenna_orig = color.rgb2gray(io.imread('Lenna.png'))\n",
    "\n",
    "# lenna_orig = imageio.imread('Lenna_(test_image).png', mode='L')\n",
    "\n",
    "def dog_fn(A_c=2.5, sigma_c=3, A_s=1, sigma_s=5):\n",
    "    sigma_x = sigma_y = max(sigma_c, sigma_s)\n",
    "#     sigma_x = sigma\n",
    "#     sigma_y = float(sigma) / gamma\n",
    "\n",
    "    # Bounding box\n",
    "    nstds = 3 # Number of standard deviation sigma\n",
    "    xmax = nstds * sigma_x\n",
    "    xmax = np.ceil(max(1, xmax))\n",
    "    ymax = nstds * sigma_y\n",
    "    ymax = np.ceil(max(1, ymax))\n",
    "    xmin = -xmax\n",
    "    ymin = -ymax\n",
    "    (y, x) = np.meshgrid(np.arange(ymin, ymax + 1), np.arange(xmin, xmax + 1))\n",
    "\n",
    "    dog = A_c * np.exp(-(x**2+y**2)/(2 * sigma_c**2)) - A_s * np.exp(-(x**2+y**2)/(2 * sigma_s**2))\n",
    "    \n",
    "    fig, axes = plt.subplots(ncols=3, figsize=(18,6))\n",
    "    ctf = axes[0].imshow(dog, cmap='gray', vmin=-1, vmax=1)\n",
    "#     axes[0].set_xlim(0,50)\n",
    "#     axes[0].set_ylim(50,0)\n",
    "#     ctf = axes[0].contourf(x, y, dog, vmin=-1, vmax=1, levels=np.linspace(-1, 1, 51), cmap='gray')  #cmap='coolwarm')\n",
    "#     axes[0].set_aspect('equal')\n",
    "#     axes[0].set_xlim(-40,40)\n",
    "#     axes[0].set_ylim(-40,40)\n",
    "    axes[0].get_xaxis().set_visible(False)\n",
    "    axes[0].get_yaxis().set_visible(False)\n",
    "    fig.colorbar(ctf, ax=axes[0])\n",
    "    \n",
    "    axes[1].imshow(lenna_orig, cmap='gray')\n",
    "    axes[1].get_xaxis().set_visible(False)\n",
    "    axes[1].get_yaxis().set_visible(False)\n",
    "    \n",
    "    # np.flipud(np.fliplr(gb))\n",
    "    axes[2].imshow(convolve(lenna_orig, dog), cmap='gray')\n",
    "    axes[2].get_xaxis().set_visible(False)\n",
    "    axes[2].get_yaxis().set_visible(False)\n",
    "\n",
    "\n",
    "# gabor_fn(sigma=5, theta=np.pi, Lambda=10, psi=np.pi/2, gamma=0.25)\n",
    "interact(dog_fn, A_c=(0.1,10.), sigma_c=(0,10.), A_s=(0.1,10.), sigma_s=(0,10.))"
   ]
  }
 ],
 "metadata": {
  "kernelspec": {
   "display_name": "Python 3",
   "language": "python",
   "name": "python3"
  },
  "language_info": {
   "codemirror_mode": {
    "name": "ipython",
    "version": 3
   },
   "file_extension": ".py",
   "mimetype": "text/x-python",
   "name": "python",
   "nbconvert_exporter": "python",
   "pygments_lexer": "ipython3",
   "version": "3.6.8"
  }
 },
 "nbformat": 4,
 "nbformat_minor": 2
}
