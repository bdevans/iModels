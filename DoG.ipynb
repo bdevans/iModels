{
 "cells": [
  {
   "cell_type": "code",
   "execution_count": null,
   "metadata": {},
   "outputs": [],
   "source": [
    "%matplotlib inline\n",
    "from ipywidgets import interact\n",
    "import numpy as np\n",
    "from skimage import io, color\n",
    "from scipy.ndimage.filters import convolve\n",
    "from matplotlib import pyplot as plt\n",
    "\n",
    "lenna_orig = color.rgb2gray(io.imread('Lenna.png'))\n",
    "\n",
    "def dog_fn(A_c=2.5, sigma_c=3, A_s=1, sigma_s=5):\n",
    "    sigma_x = sigma_y = max(sigma_c, sigma_s)\n",
    "#     sigma_x, sigma_y = sigma, float(sigma) / gamma\n",
    "    # Bounding box\n",
    "    nstds = 3 # Number of standard deviation sigma\n",
    "    xmax = np.ceil(max(1, nstds * sigma_x))\n",
    "    ymax = np.ceil(max(1, nstds * sigma_y))\n",
    "    xmin, ymin = -xmax, -ymax\n",
    "    (y, x) = np.meshgrid(np.arange(ymin, ymax + 1), np.arange(xmin, xmax + 1))\n",
    "\n",
    "    dog = A_c * np.exp(-(x**2+y**2)/(2 * sigma_c**2)) - A_s * np.exp(-(x**2+y**2)/(2 * sigma_s**2))\n",
    "    \n",
    "    fig, axes = plt.subplots(ncols=3, figsize=(18,6))\n",
    "    ctf = axes[0].imshow(dog, cmap='gray', vmin=-1, vmax=1)\n",
    "    fig.colorbar(ctf, ax=axes[0])\n",
    "    axes[1].imshow(lenna_orig, cmap='gray')\n",
    "    # np.flipud(np.fliplr(gb))\n",
    "    axes[2].imshow(convolve(lenna_orig, dog), cmap='gray')\n",
    "    for ax in axes:\n",
    "        ax.get_xaxis().set_visible(False)\n",
    "        ax.get_yaxis().set_visible(False)\n",
    "\n",
    "interact(dog_fn, A_c=(0.1,10.), sigma_c=(0,10.), A_s=(0.1,10.), sigma_s=(0,10.))"
   ]
  },
  {
   "cell_type": "markdown",
   "metadata": {},
   "source": [
    "$f_{DoG}(r) = \\frac{A_c}{\\pi r_c^2} e^{\\frac{r^2}{r_c^2}} - \\frac{A_s}{\\pi r_s^2} e^{\\frac{r^2}{r_s^2}}$"
   ]
  },
  {
   "cell_type": "markdown",
   "metadata": {},
   "source": [
    "$f_{DoG}(x,y) = \\frac{A_c}{\\gamma^2} e^{-\\frac{x^2+y^2}{2 \\gamma^2 \\sigma^2}} - A_s e^{-\\frac{x^2+y^2}{2 \\sigma^2}}$"
   ]
  },
  {
   "cell_type": "code",
   "execution_count": null,
   "metadata": {},
   "outputs": [],
   "source": []
  }
 ],
 "metadata": {
  "kernelspec": {
   "display_name": "Python 3",
   "language": "python",
   "name": "python3"
  },
  "language_info": {
   "codemirror_mode": {
    "name": "ipython",
    "version": 3
   },
   "file_extension": ".py",
   "mimetype": "text/x-python",
   "name": "python",
   "nbconvert_exporter": "python",
   "pygments_lexer": "ipython3",
   "version": "3.7.1"
  }
 },
 "nbformat": 4,
 "nbformat_minor": 2
}
