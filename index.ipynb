{
 "cells": [
  {
   "cell_type": "markdown",
   "metadata": {},
   "source": [
    "# Interactive Models for Computational Neuroscience"
   ]
  },
  {
   "cell_type": "markdown",
   "metadata": {},
   "source": [
    "## Input Filters\n",
    "* [Gabor filter](Gabor.ipynb)\n",
    "* [Difference of Gaussians](DoG.ipynb)\n",
    "\n",
    "## Synapses\n",
    "* [Alpha synapse model](Alpha.ipynb)\n",
    "\n",
    "## Neurons\n",
    "* [Poisson spike generator](Poisson.ipynb)\n",
    "* [Adaptive Exponential integrate-and-fire Model](AdEx.ipynb)"
   ]
  },
  {
   "cell_type": "code",
   "execution_count": null,
   "metadata": {},
   "outputs": [],
   "source": []
  }
 ],
 "metadata": {
  "language_info": {
   "name": "python",
   "pygments_lexer": "ipython3"
  }
 },
 "nbformat": 4,
 "nbformat_minor": 2
}
