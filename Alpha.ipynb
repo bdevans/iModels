{
 "cells": [
  {
   "cell_type": "markdown",
   "metadata": {},
   "source": [
    "$\\alpha(t) = u(t)\\cdot g_{peak}\\cdot\\frac{t}{t_{peak}}\\cdot e^{\\left(1-\\frac{t}{t_{peak}}\\right)}$"
   ]
  },
  {
   "cell_type": "markdown",
   "metadata": {},
   "source": [
    "http://www.cns.nyu.edu/~david/handouts/synapse.pdf"
   ]
  },
  {
   "cell_type": "code",
   "execution_count": null,
   "metadata": {},
   "outputs": [],
   "source": [
    "%matplotlib inline\n",
    "import numpy as np\n",
    "from matplotlib import pyplot as plt\n",
    "from ipywidgets import interact\n",
    "import ipywidgets as widgets\n",
    "\n",
    "dt = 0.1\n",
    "def alpha_function(t_onset=50, t_peak=25, g_peak=100, T=100):\n",
    "    t = np.linspace(0, T, num=int(T/dt)+1)\n",
    "    alpha = np.heaviside(t - t_onset, 1) * g_peak * (t-t_onset)/t_peak * np.exp(1-(t-t_onset)/t_peak)\n",
    "    plt.plot(t, alpha)\n",
    "    \n",
    "interact(alpha_function, t_onset=(0,10.), t_peak=(0,10.), g_peak=(0,10.), T=(10,1000))"
   ]
  }
 ],
 "metadata": {
  "kernelspec": {
   "display_name": "Python 3",
   "language": "python",
   "name": "python3"
  },
  "language_info": {
   "codemirror_mode": {
    "name": "ipython",
    "version": 3
   },
   "file_extension": ".py",
   "mimetype": "text/x-python",
   "name": "python",
   "nbconvert_exporter": "python",
   "pygments_lexer": "ipython3",
   "version": "3.6.8"
  }
 },
 "nbformat": 4,
 "nbformat_minor": 2
}
